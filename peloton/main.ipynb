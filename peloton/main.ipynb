{
 "cells": [
  {
   "cell_type": "code",
   "execution_count": 1,
   "metadata": {},
   "outputs": [],
   "source": [
    "import os\n",
    "\n",
    "from google.cloud import bigquery\n",
    "import pandas as pd\n",
    "\n",
    "import log\n",
    "import peloton_instructor\n",
    "import peloton_user\n",
    "import peloton_workout\n",
    "\n",
    "USERNAME = os.environ['USERNAME']\n",
    "PASSWORD = os.environ['PASSWORD']\n",
    "\n",
    "# configure logging\n",
    "logger = log.setup_custom_logger('peloton')"
   ]
  },
  {
   "cell_type": "code",
   "execution_count": 2,
   "metadata": {},
   "outputs": [
    {
     "output_type": "stream",
     "name": "stderr",
     "text": "INFO - peloton_user - Successfully logged in as xmarcosx\nINFO - peloton_user - Returning 79 workout ids\n"
    }
   ],
   "source": [
    "user = peloton_user.PelotonUser(USERNAME, PASSWORD)\n",
    "\n",
    "# fetch list of workout ids\n",
    "user.workout_ids = user.get_workout_ids()"
   ]
  },
  {
   "cell_type": "code",
   "execution_count": 3,
   "metadata": {},
   "outputs": [],
   "source": [
    "# create workout objects\n",
    "user.workouts = [peloton_workout.PelotonWorkout(user, workout_id) for workout_id in user.workout_ids]\n"
   ]
  },
  {
   "cell_type": "code",
   "execution_count": 4,
   "metadata": {},
   "outputs": [
    {
     "output_type": "execute_result",
     "data": {
      "text/plain": "              name                        workout_id    workout_datetime  \\\n76  Marcos Alcozer  78a151a3a69941b6bfcedc603ee38c2d 2020-03-13 16:42:37   \n77  Marcos Alcozer  47b3c8c8656f472e9a4e68fb9d477b89 2020-03-08 22:05:56   \n78  Marcos Alcozer  9c0af5aa24724400bc67234c250d189b 2020-03-07 14:43:26   \n\n   fitness_discipline                 title  \n76            Cycling    45 min Groove Ride  \n77            Running  20 min Intervals Run  \n78            Cycling    30 min Groove Ride  ",
      "text/html": "<div>\n<style scoped>\n    .dataframe tbody tr th:only-of-type {\n        vertical-align: middle;\n    }\n\n    .dataframe tbody tr th {\n        vertical-align: top;\n    }\n\n    .dataframe thead th {\n        text-align: right;\n    }\n</style>\n<table border=\"1\" class=\"dataframe\">\n  <thead>\n    <tr style=\"text-align: right;\">\n      <th></th>\n      <th>name</th>\n      <th>workout_id</th>\n      <th>workout_datetime</th>\n      <th>fitness_discipline</th>\n      <th>title</th>\n    </tr>\n  </thead>\n  <tbody>\n    <tr>\n      <th>76</th>\n      <td>Marcos Alcozer</td>\n      <td>78a151a3a69941b6bfcedc603ee38c2d</td>\n      <td>2020-03-13 16:42:37</td>\n      <td>Cycling</td>\n      <td>45 min Groove Ride</td>\n    </tr>\n    <tr>\n      <th>77</th>\n      <td>Marcos Alcozer</td>\n      <td>47b3c8c8656f472e9a4e68fb9d477b89</td>\n      <td>2020-03-08 22:05:56</td>\n      <td>Running</td>\n      <td>20 min Intervals Run</td>\n    </tr>\n    <tr>\n      <th>78</th>\n      <td>Marcos Alcozer</td>\n      <td>9c0af5aa24724400bc67234c250d189b</td>\n      <td>2020-03-07 14:43:26</td>\n      <td>Cycling</td>\n      <td>30 min Groove Ride</td>\n    </tr>\n  </tbody>\n</table>\n</div>"
     },
     "metadata": {},
     "execution_count": 4
    }
   ],
   "source": [
    "output = {\n",
    "    'name': [],\n",
    "    'workout_id': [],\n",
    "    'workout_datetime': [],\n",
    "    'fitness_discipline': [],\n",
    "    'title': []\n",
    "}\n",
    "\n",
    "for workout in user.workouts:\n",
    "    output['name'].append(user.name)\n",
    "    output['workout_id'].append(workout.workout_id)\n",
    "    # convert seconds since epoch to datetime object\n",
    "    output['workout_datetime'].append(pd.to_datetime(workout.created_at_epoch, unit='s'))\n",
    "    # capitalize first letter of fitness discipline\n",
    "    output['fitness_discipline'].append(workout.fitness_discipline.capitalize())\n",
    "    output['title'].append(workout.ride_title)\n",
    "\n",
    "df = pd.DataFrame(output)\n",
    "\n",
    "df.tail(3)\n",
    "\n"
   ]
  },
  {
   "cell_type": "code",
   "execution_count": 9,
   "metadata": {},
   "outputs": [
    {
     "output_type": "execute_result",
     "data": {
      "text/plain": "<google.cloud.bigquery.job.LoadJob at 0x7f0285bfaca0>"
     },
     "metadata": {},
     "execution_count": 9
    }
   ],
   "source": [
    "client = bigquery.Client()\n",
    "\n",
    "table_id = 'peloton.workouts'\n",
    "\n",
    "job_config = bigquery.LoadJobConfig(\n",
    "    schema=[\n",
    "        bigquery.SchemaField(\"name\", \"STRING\"),\n",
    "        bigquery.SchemaField(\"workout_id\", \"STRING\"),\n",
    "        bigquery.SchemaField(\"workout_datetime\", \"TIMESTAMP\"),\n",
    "        bigquery.SchemaField(\"fitness_discipline\", \"STRING\"),\n",
    "        bigquery.SchemaField(\"title\", \"STRING\"),\n",
    "    ],\n",
    "    write_disposition=\"WRITE_TRUNCATE\"\n",
    ")\n",
    "\n",
    "job = client.load_table_from_dataframe(df, table_id, job_config=job_config)\n",
    "\n",
    "job.result()"
   ]
  },
  {
   "cell_type": "code",
   "execution_count": 6,
   "metadata": {},
   "outputs": [],
   "source": [
    "# pull workout summary data\n",
    "# [workout.get_workout_summary() for workout in workouts]"
   ]
  },
  {
   "cell_type": "code",
   "execution_count": 7,
   "metadata": {},
   "outputs": [],
   "source": [
    "# pull performance graph data\n",
    "# [workout.get_performance_graph() for workout in workouts]"
   ]
  }
 ],
 "metadata": {
  "language_info": {
   "codemirror_mode": {
    "name": "ipython",
    "version": 3
   },
   "file_extension": ".py",
   "mimetype": "text/x-python",
   "name": "python",
   "nbconvert_exporter": "python",
   "pygments_lexer": "ipython3",
   "version": "3.8.3-final"
  },
  "orig_nbformat": 2,
  "kernelspec": {
   "name": "python38364bitc1bf40867d874dbb84179922c62829b5",
   "display_name": "Python 3.8.3 64-bit"
  }
 },
 "nbformat": 4,
 "nbformat_minor": 2
}