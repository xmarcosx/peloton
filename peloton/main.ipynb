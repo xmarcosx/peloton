{
 "cells": [
  {
   "cell_type": "code",
   "execution_count": 1,
   "metadata": {},
   "outputs": [],
   "source": [
    "import os\n",
    "\n",
    "from google.cloud import bigquery\n",
    "import pandas as pd\n",
    "\n",
    "import log\n",
    "import peloton_instructor\n",
    "import peloton_user\n",
    "import peloton_ride\n",
    "import peloton_workout\n",
    "\n",
    "USERNAME = os.environ['USERNAME']\n",
    "PASSWORD = os.environ['PASSWORD']\n",
    "\n",
    "# configure logging\n",
    "logger = log.setup_custom_logger('peloton')"
   ]
  },
  {
   "cell_type": "markdown",
   "metadata": {},
   "source": [
    "# Peloton User\n",
    "In the section below we create the Peloton user, authenticate with the API, and send user data to a table in BigQuery."
   ]
  },
  {
   "cell_type": "code",
   "execution_count": 2,
   "metadata": {},
   "outputs": [
    {
     "output_type": "stream",
     "name": "stderr",
     "text": "INFO - peloton_user - Successfully logged in as xmarcosx\n"
    }
   ],
   "source": [
    "\n",
    "user = peloton_user.PelotonUser(USERNAME, PASSWORD)\n"
   ]
  },
  {
   "cell_type": "code",
   "execution_count": 3,
   "metadata": {},
   "outputs": [],
   "source": [
    "client = bigquery.Client()\n",
    "\n",
    "table_id = 'peloton.users'\n",
    "\n",
    "job = client.load_table_from_dataframe(user.to_df(), table_id, job_config=user.get_bigquery_job_config())\n",
    "\n",
    "job.result()"
   ]
  },
  {
   "cell_type": "markdown",
   "metadata": {},
   "source": [
    "# Peloton Workouts\n",
    "In the section below we retrieve all workout ids for the user, get workout metadata, and send to a table in BigQuery."
   ]
  },
  {
   "cell_type": "code",
   "execution_count": 4,
   "metadata": {},
   "outputs": [
    {
     "output_type": "stream",
     "name": "stderr",
     "text": "INFO - peloton_user - Returning 85 workout ids\n"
    }
   ],
   "source": [
    "# retrieve all workout ids\n",
    "workout_ids = user.get_workout_ids()\n",
    "\n",
    "# create workout objects\n",
    "workouts = [peloton_workout.PelotonWorkout(user, workout_id) for workout_id in workout_ids]\n"
   ]
  },
  {
   "cell_type": "code",
   "execution_count": 5,
   "metadata": {},
   "outputs": [],
   "source": [
    "table_id = 'peloton.workouts'\n",
    "\n",
    "payload = pd.concat([workout.to_df() for workout in workouts])\n",
    "\n",
    "job = client.load_table_from_dataframe(payload, table_id, job_config=workouts[0].get_bigquery_job_config())\n",
    "\n",
    "job.result()"
   ]
  },
  {
   "cell_type": "markdown",
   "metadata": {},
   "source": [
    "# Peloton Rides"
   ]
  },
  {
   "cell_type": "code",
   "execution_count": 6,
   "metadata": {},
   "outputs": [],
   "source": [
    "ride_ids = [workout.ride_id for workout in workouts]\n",
    "unique_ride_ids = list(dict.fromkeys(ride_ids))\n",
    "\n",
    "rides = [peloton_ride.PelotonRide(user, ride_id) for ride_id in unique_ride_ids]\n",
    "\n"
   ]
  },
  {
   "cell_type": "code",
   "execution_count": 8,
   "metadata": {},
   "outputs": [
    {
     "output_type": "execute_result",
     "data": {
      "text/plain": "<google.cloud.bigquery.job.LoadJob at 0x7fc6794b1550>"
     },
     "metadata": {},
     "execution_count": 8
    }
   ],
   "source": [
    "table_id = 'peloton.rides'\n",
    "\n",
    "payload = pd.concat([ride.to_df() for ride in rides])\n",
    "\n",
    "job = client.load_table_from_dataframe(payload, table_id, job_config=rides[0].get_bigquery_job_config())\n",
    "\n",
    "job.result()"
   ]
  },
  {
   "cell_type": "code",
   "execution_count": null,
   "metadata": {},
   "outputs": [],
   "source": []
  }
 ],
 "metadata": {
  "language_info": {
   "codemirror_mode": {
    "name": "ipython",
    "version": 3
   },
   "file_extension": ".py",
   "mimetype": "text/x-python",
   "name": "python",
   "nbconvert_exporter": "python",
   "pygments_lexer": "ipython3",
   "version": "3.8.3-final"
  },
  "orig_nbformat": 2,
  "kernelspec": {
   "name": "python38364bitc0176778320f43bbb2bac51d5c07ac1b",
   "display_name": "Python 3.8.3 64-bit"
  }
 },
 "nbformat": 4,
 "nbformat_minor": 2
}