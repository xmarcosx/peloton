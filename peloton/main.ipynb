{
 "cells": [
  {
   "cell_type": "code",
   "execution_count": null,
   "metadata": {
    "tags": []
   },
   "outputs": [],
   "source": [
    "import os\n",
    "\n",
    "from google.cloud import bigquery\n",
    "from google.cloud import secretmanager\n",
    "import pandas as pd\n",
    "\n",
    "import log\n",
    "import peloton_instructor\n",
    "import peloton_user\n",
    "import peloton_ride\n",
    "import peloton_workout\n",
    "\n",
    "USERNAME=os.environ['USERNAME']\n",
    "GCP_PROJECT_ID=os.environ['GCP_PROJECT_ID']\n",
    "SECRET_MANAGER=os.environ['SECRET_MANAGER']\n",
    "BIGQUERY_DATASET=os.environ['BIGQUERY_DATASET']\n",
    "\n",
    "# configure logging\n",
    "logger = log.setup_custom_logger('peloton')\n",
    "\n",
    "# initialize bigquery\n",
    "client = bigquery.Client()\n",
    "\n",
    "# initalize secret manager and access secret\n",
    "manager = secretmanager.SecretManagerServiceClient()\n",
    "name = manager.secret_version_path(GCP_PROJECT_ID, SECRET_MANAGER, 'latest')\n",
    "response = manager.access_secret_version(name)\n",
    "PASSWORD = response.payload.data.decode('UTF-8')"
   ]
  },
  {
   "cell_type": "markdown",
   "metadata": {},
   "source": [
    "# Users\n",
    "In the section below we create the Peloton user, authenticate with the API, and send user data to a table in BigQuery."
   ]
  },
  {
   "cell_type": "code",
   "execution_count": null,
   "metadata": {
    "tags": []
   },
   "outputs": [],
   "source": [
    "\n",
    "user = peloton_user.PelotonUser(USERNAME, PASSWORD)\n"
   ]
  },
  {
   "cell_type": "code",
   "execution_count": null,
   "metadata": {},
   "outputs": [],
   "source": [
    "table_id = f'{BIGQUERY_DATASET}.users'\n",
    "\n",
    "job = client.load_table_from_dataframe(user.to_df(), table_id, job_config=user.get_bigquery_job_config())\n",
    "\n",
    "job.result()"
   ]
  },
  {
   "cell_type": "markdown",
   "metadata": {},
   "source": [
    "# Workouts\n",
    "Here we retrieve all workout ids for the user, workout metadata, performance graphs that include heart rate data, and send to a table in BigQuery."
   ]
  },
  {
   "cell_type": "code",
   "execution_count": null,
   "metadata": {
    "tags": []
   },
   "outputs": [],
   "source": [
    "# retrieve all workout ids\n",
    "workout_ids = user.get_workout_ids()\n",
    "\n",
    "# create workout objects\n",
    "workouts = [peloton_workout.PelotonWorkout(user, workout_id) for workout_id in workout_ids]\n",
    "\n",
    "# get workout summaries\n",
    "summaries = [workout.get_workout_summary() for workout in workouts]\n",
    "\n",
    "# get workout details\n",
    "details = [workout.get_workout_details() for workout in workouts]\n"
   ]
  },
  {
   "cell_type": "code",
   "execution_count": null,
   "metadata": {},
   "outputs": [],
   "source": [
    "# send workout data to BigQuery\n",
    "\n",
    "table_id = f'{BIGQUERY_DATASET}.workouts'\n",
    "\n",
    "payload = pd.concat([workout.to_df() for workout in workouts])\n",
    "\n",
    "job = client.load_table_from_dataframe(payload, table_id, job_config=workouts[0].get_bigquery_job_config())\n",
    "\n",
    "job.result()"
   ]
  },
  {
   "cell_type": "code",
   "execution_count": null,
   "metadata": {},
   "outputs": [],
   "source": [
    "# send performance graph data to BigQuery\n",
    "\n",
    "# table_id = f'{BIGQUERY_DATASET}.performance_graphs'\n",
    "\n",
    "# job_config = bigquery.LoadJobConfig(\n",
    "#     schema=[\n",
    "#         bigquery.SchemaField('workout_id', 'STRING'),\n",
    "#         bigquery.SchemaField('display_name', 'STRING'),\n",
    "#         bigquery.SchemaField('range', 'STRING'),\n",
    "#         bigquery.SchemaField('minimum_value', 'INTEGER'),\n",
    "#         bigquery.SchemaField('maximum_value', 'INTEGER'),\n",
    "#         bigquery.SchemaField('duration_seconds', 'INTEGER'),\n",
    "#     ],\n",
    "#     write_disposition='WRITE_TRUNCATE'\n",
    "# )\n",
    "\n",
    "# job = client.load_table_from_dataframe(performance_graph_df, table_id, job_config=job_config)\n",
    "\n",
    "# job.result()\n"
   ]
  },
  {
   "cell_type": "markdown",
   "metadata": {},
   "source": [
    "# Rides\n",
    "Here we retrieve class data for the class taken during the workout."
   ]
  },
  {
   "cell_type": "code",
   "execution_count": null,
   "metadata": {},
   "outputs": [],
   "source": [
    "# pull rides data for list of unique ride ids\n",
    "ride_ids = [workout.ride_id for workout in workouts]\n",
    "unique_ride_ids = list(dict.fromkeys(ride_ids))\n",
    "\n",
    "# create objects\n",
    "rides = [peloton_ride.PelotonRide(user, ride_id) for ride_id in unique_ride_ids]\n",
    "\n",
    "# fetch all possible ride types\n",
    "ride_types = rides[0].get_ride_types()\n",
    "\n",
    "for ride in rides:\n",
    "    ride_type = next((ride_type for ride_type in ride_types if ride_type['id'] == ride.ride_type_id), None)\n",
    "    ride.ride_type_display_name = ride_type['display_name']\n",
    "\n"
   ]
  },
  {
   "cell_type": "code",
   "execution_count": null,
   "metadata": {},
   "outputs": [],
   "source": [
    "table_id = f'{BIGQUERY_DATASET}.rides'\n",
    "\n",
    "payload = pd.concat([ride.to_df() for ride in rides])\n",
    "\n",
    "job = client.load_table_from_dataframe(payload, table_id, job_config=rides[0].get_bigquery_job_config())\n",
    "\n",
    "job.result()"
   ]
  },
  {
   "cell_type": "markdown",
   "metadata": {},
   "source": [
    "# Instructors"
   ]
  },
  {
   "cell_type": "code",
   "execution_count": null,
   "metadata": {
    "tags": []
   },
   "outputs": [],
   "source": [
    "instructor_ids = [ride.instructor_id for ride in rides]\n",
    "unique_instructor_ids = list(dict.fromkeys(instructor_ids))\n",
    "\n",
    "instructors = [peloton_instructor.PelotonInstructor(instructor_id) for instructor_id in unique_instructor_ids if instructor_id is not None]\n",
    "\n"
   ]
  },
  {
   "cell_type": "code",
   "execution_count": null,
   "metadata": {},
   "outputs": [],
   "source": [
    "table_id = f'{BIGQUERY_DATASET}.instructors'\n",
    "\n",
    "payload = pd.concat([instructor.to_df() for instructor in instructors])\n",
    "\n",
    "job = client.load_table_from_dataframe(payload, table_id, job_config=instructors[0].get_bigquery_job_config())\n",
    "\n",
    "job.result()"
   ]
  },
  {
   "cell_type": "code",
   "execution_count": null,
   "metadata": {},
   "outputs": [],
   "source": []
  }
 ],
 "metadata": {
  "language_info": {
   "codemirror_mode": {
    "name": "ipython",
    "version": 3
   },
   "file_extension": ".py",
   "mimetype": "text/x-python",
   "name": "python",
   "nbconvert_exporter": "python",
   "pygments_lexer": "ipython3",
   "version": "3.8.3-final"
  },
  "orig_nbformat": 2,
  "kernelspec": {
   "name": "python_defaultSpec_1596209556938",
   "display_name": "Python 3.8.3 64-bit"
  }
 },
 "nbformat": 4,
 "nbformat_minor": 2
}