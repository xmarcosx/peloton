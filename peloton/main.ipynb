{
 "cells": [
  {
   "cell_type": "code",
   "execution_count": 4,
   "metadata": {},
   "outputs": [],
   "source": [
    "import os\n",
    "import pandas as pd\n",
    "\n",
    "import log\n",
    "import peloton_instructor\n",
    "import peloton_user\n",
    "import peloton_workout\n",
    "\n",
    "USERNAME = os.environ['USERNAME']\n",
    "PASSWORD = os.environ['PASSWORD']\n",
    "\n",
    "# configure logging\n",
    "logger = log.setup_custom_logger('peloton')"
   ]
  },
  {
   "cell_type": "code",
   "execution_count": 12,
   "metadata": {},
   "outputs": [
    {
     "output_type": "stream",
     "name": "stderr",
     "text": "INFO - peloton_user - Successfully logged in as xmarcosx\nINFO - peloton_user - Successfully logged in as xmarcosx\nINFO - peloton_user - Returning 77 workout ids\nINFO - peloton_user - Returning 77 workout ids\n"
    }
   ],
   "source": [
    "user = peloton_user.PelotonUser(USERNAME, PASSWORD)\n",
    "\n",
    "# fetch list of workout ids\n",
    "user.workout_ids = user.get_workout_ids()"
   ]
  },
  {
   "cell_type": "code",
   "execution_count": 17,
   "metadata": {},
   "outputs": [
    {
     "output_type": "stream",
     "name": "stderr",
     "text": "INFO - peloton_workout - Successfully fetched workout id 7b19914e78034066ad186d63d9b4f1c8\nINFO - peloton_workout - Successfully fetched workout id 7b19914e78034066ad186d63d9b4f1c8\nINFO - peloton_workout - Successfully fetched workout id 3b2bb2f1d2544ca49bb4af7166c57ea4\nINFO - peloton_workout - Successfully fetched workout id 3b2bb2f1d2544ca49bb4af7166c57ea4\nINFO - peloton_workout - Successfully fetched workout id a6b7937612174476a858a54746c930cf\nINFO - peloton_workout - Successfully fetched workout id a6b7937612174476a858a54746c930cf\nINFO - peloton_workout - Successfully fetched workout id f95cd49eef754c4d97ff510bbfcf2d7a\nINFO - peloton_workout - Successfully fetched workout id f95cd49eef754c4d97ff510bbfcf2d7a\nINFO - peloton_workout - Successfully fetched workout id ce7ef680dfad408691720b829cbe9f24\nINFO - peloton_workout - Successfully fetched workout id ce7ef680dfad408691720b829cbe9f24\nINFO - peloton_workout - Successfully fetched workout id 707e358de9ff4763acab891d7010a4f9\nINFO - peloton_workout - Successfully fetched workout id 707e358de9ff4763acab891d7010a4f9\nINFO - peloton_workout - Successfully fetched workout id c63bd92f7ae24fe6999c9c3ee8fc1d9a\nINFO - peloton_workout - Successfully fetched workout id c63bd92f7ae24fe6999c9c3ee8fc1d9a\nINFO - peloton_workout - Successfully fetched workout id e68249d58b964bbbbd8d3d2e7efda37a\nINFO - peloton_workout - Successfully fetched workout id e68249d58b964bbbbd8d3d2e7efda37a\nINFO - peloton_workout - Successfully fetched workout id 1ca094e4ab664496901c6a59d56ad72e\nINFO - peloton_workout - Successfully fetched workout id 1ca094e4ab664496901c6a59d56ad72e\nINFO - peloton_workout - Successfully fetched workout id 11479ce364cc47a99ce4621497da8009\nINFO - peloton_workout - Successfully fetched workout id 11479ce364cc47a99ce4621497da8009\nINFO - peloton_workout - Successfully fetched workout id 972c6e1f463e4ae19b655894a3894530\nINFO - peloton_workout - Successfully fetched workout id 972c6e1f463e4ae19b655894a3894530\nINFO - peloton_workout - Successfully fetched workout id dff46fa89c2b49e799428db74dc409bd\nINFO - peloton_workout - Successfully fetched workout id dff46fa89c2b49e799428db74dc409bd\nINFO - peloton_workout - Successfully fetched workout id deaae46529e84d95acb2d7339ce7d6ea\nINFO - peloton_workout - Successfully fetched workout id deaae46529e84d95acb2d7339ce7d6ea\nINFO - peloton_workout - Successfully fetched workout id d33a57875d2e4af0afb6d3065b7e4f20\nINFO - peloton_workout - Successfully fetched workout id d33a57875d2e4af0afb6d3065b7e4f20\nINFO - peloton_workout - Successfully fetched workout id 7113580d37444437b88b82086ac2462c\nINFO - peloton_workout - Successfully fetched workout id 7113580d37444437b88b82086ac2462c\nINFO - peloton_workout - Successfully fetched workout id 8bdc44a19bba41f6a0f00be6f1f17ff0\nINFO - peloton_workout - Successfully fetched workout id 8bdc44a19bba41f6a0f00be6f1f17ff0\nINFO - peloton_workout - Successfully fetched workout id c4453dd791d94db1aeb2e016e62afb08\nINFO - peloton_workout - Successfully fetched workout id c4453dd791d94db1aeb2e016e62afb08\nINFO - peloton_workout - Successfully fetched workout id 980ebb53a34645c0bb34a6fd4b6b5b65\nINFO - peloton_workout - Successfully fetched workout id 980ebb53a34645c0bb34a6fd4b6b5b65\nINFO - peloton_workout - Successfully fetched workout id d9b8fd122ee646d3851500273c9209ef\nINFO - peloton_workout - Successfully fetched workout id d9b8fd122ee646d3851500273c9209ef\nINFO - peloton_workout - Successfully fetched workout id 966aeb29d81449ea8289df97f56bfef7\nINFO - peloton_workout - Successfully fetched workout id 966aeb29d81449ea8289df97f56bfef7\nINFO - peloton_workout - Successfully fetched workout id 0cd4f383230e435b924ca0da2e8c420e\nINFO - peloton_workout - Successfully fetched workout id 0cd4f383230e435b924ca0da2e8c420e\nINFO - peloton_workout - Successfully fetched workout id 1907243595d44d13b875a0650f4804bf\nINFO - peloton_workout - Successfully fetched workout id 1907243595d44d13b875a0650f4804bf\nINFO - peloton_workout - Successfully fetched workout id a9da046a538f496a93ececc57e100417\nINFO - peloton_workout - Successfully fetched workout id a9da046a538f496a93ececc57e100417\nINFO - peloton_workout - Successfully fetched workout id 3a020b60c09a4a78854d651eb2fb235e\nINFO - peloton_workout - Successfully fetched workout id 3a020b60c09a4a78854d651eb2fb235e\nINFO - peloton_workout - Successfully fetched workout id 66b6a0df75d64b1aa14df07e91a79c91\nINFO - peloton_workout - Successfully fetched workout id 66b6a0df75d64b1aa14df07e91a79c91\nINFO - peloton_workout - Successfully fetched workout id 94ff3accb2974d78a6fde4e17b4e116d\nINFO - peloton_workout - Successfully fetched workout id 94ff3accb2974d78a6fde4e17b4e116d\nINFO - peloton_workout - Successfully fetched workout id 31f311f2f1294890ae39d7eae1decf14\nINFO - peloton_workout - Successfully fetched workout id 31f311f2f1294890ae39d7eae1decf14\nINFO - peloton_workout - Successfully fetched workout id b0e51c94154b4afb95b87f8aa845ce8e\nINFO - peloton_workout - Successfully fetched workout id b0e51c94154b4afb95b87f8aa845ce8e\nINFO - peloton_workout - Successfully fetched workout id 499afd48e29f43239db930fdfedcd4cf\nINFO - peloton_workout - Successfully fetched workout id 499afd48e29f43239db930fdfedcd4cf\nINFO - peloton_workout - Successfully fetched workout id 596f17eba0064564a822c96501436cec\nINFO - peloton_workout - Successfully fetched workout id 596f17eba0064564a822c96501436cec\nINFO - peloton_workout - Successfully fetched workout id c4c0270931b04aaba13f24f44b70bcf4\nINFO - peloton_workout - Successfully fetched workout id c4c0270931b04aaba13f24f44b70bcf4\nINFO - peloton_workout - Successfully fetched workout id 79b6a487e32746e1b9349922e869ac65\nINFO - peloton_workout - Successfully fetched workout id 79b6a487e32746e1b9349922e869ac65\nINFO - peloton_workout - Successfully fetched workout id 410d76b5962d43289455f19769ba3d81\nINFO - peloton_workout - Successfully fetched workout id 410d76b5962d43289455f19769ba3d81\nINFO - peloton_workout - Successfully fetched workout id 284ea82c50284da5b865349fc6d1262a\nINFO - peloton_workout - Successfully fetched workout id 284ea82c50284da5b865349fc6d1262a\nINFO - peloton_workout - Successfully fetched workout id 56cc1e36df564378922dd5b76971c6d0\nINFO - peloton_workout - Successfully fetched workout id 56cc1e36df564378922dd5b76971c6d0\nINFO - peloton_workout - Successfully fetched workout id d9f6430f513645c1bff7ded6e9e2394e\nINFO - peloton_workout - Successfully fetched workout id d9f6430f513645c1bff7ded6e9e2394e\nINFO - peloton_workout - Successfully fetched workout id bf834c73b89e4614bf07d2ff75391fbf\nINFO - peloton_workout - Successfully fetched workout id bf834c73b89e4614bf07d2ff75391fbf\nINFO - peloton_workout - Successfully fetched workout id 3990e16953794b7b91ffcf836e87b4c1\nINFO - peloton_workout - Successfully fetched workout id 3990e16953794b7b91ffcf836e87b4c1\nINFO - peloton_workout - Successfully fetched workout id 2982ee41bcd84c2cb992906e5403b245\nINFO - peloton_workout - Successfully fetched workout id 2982ee41bcd84c2cb992906e5403b245\nINFO - peloton_workout - Successfully fetched workout id d7b6d15a277944fe870de8342a5445be\nINFO - peloton_workout - Successfully fetched workout id d7b6d15a277944fe870de8342a5445be\nINFO - peloton_workout - Successfully fetched workout id c8aec56622d44f11a09cdf93a2b8cd0d\nINFO - peloton_workout - Successfully fetched workout id c8aec56622d44f11a09cdf93a2b8cd0d\nINFO - peloton_workout - Successfully fetched workout id 87fd8e3b6ce64c82bfd7546630733460\nINFO - peloton_workout - Successfully fetched workout id 87fd8e3b6ce64c82bfd7546630733460\nINFO - peloton_workout - Successfully fetched workout id 4b00babca23e460ca05c8b0ab460f0ac\nINFO - peloton_workout - Successfully fetched workout id 4b00babca23e460ca05c8b0ab460f0ac\nINFO - peloton_workout - Successfully fetched workout id b3b6baebe2e64747971cd19c5ea28568\nINFO - peloton_workout - Successfully fetched workout id b3b6baebe2e64747971cd19c5ea28568\nINFO - peloton_workout - Successfully fetched workout id 756a60f9eeac48a2a5546a044088f60f\nINFO - peloton_workout - Successfully fetched workout id 756a60f9eeac48a2a5546a044088f60f\nINFO - peloton_workout - Successfully fetched workout id 63865f867f9f4de9b9f25c3bb23bc13f\nINFO - peloton_workout - Successfully fetched workout id 63865f867f9f4de9b9f25c3bb23bc13f\nINFO - peloton_workout - Successfully fetched workout id 7f4544250a4846299acd85be3139fa1b\nINFO - peloton_workout - Successfully fetched workout id 7f4544250a4846299acd85be3139fa1b\nINFO - peloton_workout - Successfully fetched workout id cc3d9dd832194162aa7a63c460697e70\nINFO - peloton_workout - Successfully fetched workout id cc3d9dd832194162aa7a63c460697e70\nINFO - peloton_workout - Successfully fetched workout id ca79c8eef7eb4e14be7dd311134c18f2\nINFO - peloton_workout - Successfully fetched workout id ca79c8eef7eb4e14be7dd311134c18f2\nINFO - peloton_workout - Successfully fetched workout id 01b1ab4a335040c787b4f05f363bc760\nINFO - peloton_workout - Successfully fetched workout id 01b1ab4a335040c787b4f05f363bc760\nINFO - peloton_workout - Successfully fetched workout id b49b453ee9a7452c8ae58f0addea9493\nINFO - peloton_workout - Successfully fetched workout id b49b453ee9a7452c8ae58f0addea9493\nINFO - peloton_workout - Successfully fetched workout id 4cc1888847fc47ab9fde4d59c83abf5f\nINFO - peloton_workout - Successfully fetched workout id 4cc1888847fc47ab9fde4d59c83abf5f\nINFO - peloton_workout - Successfully fetched workout id 2ea2287d25c74c969a32474b8856f4ea\nINFO - peloton_workout - Successfully fetched workout id 2ea2287d25c74c969a32474b8856f4ea\nINFO - peloton_workout - Successfully fetched workout id c9c8c6a61e1e4f708b3c9247c5ed6a00\nINFO - peloton_workout - Successfully fetched workout id c9c8c6a61e1e4f708b3c9247c5ed6a00\nINFO - peloton_workout - Successfully fetched workout id 8fefb89b2c134f4e850882330ddf0ce9\nINFO - peloton_workout - Successfully fetched workout id 8fefb89b2c134f4e850882330ddf0ce9\nINFO - peloton_workout - Successfully fetched workout id a6301c3f9139452facba20facfbb5ffb\nINFO - peloton_workout - Successfully fetched workout id a6301c3f9139452facba20facfbb5ffb\nINFO - peloton_workout - Successfully fetched workout id 23ff9057688a41c5a952314e6d068065\nINFO - peloton_workout - Successfully fetched workout id 23ff9057688a41c5a952314e6d068065\nINFO - peloton_workout - Successfully fetched workout id 6267e34c23ef45c1aacbc17d25c0159c\nINFO - peloton_workout - Successfully fetched workout id 6267e34c23ef45c1aacbc17d25c0159c\nINFO - peloton_workout - Successfully fetched workout id 71ce1ea02085416d9b184ab7518c8688\nINFO - peloton_workout - Successfully fetched workout id 71ce1ea02085416d9b184ab7518c8688\nINFO - peloton_workout - Successfully fetched workout id b493a88bfe08478f81bdf02e2b2a62ea\nINFO - peloton_workout - Successfully fetched workout id b493a88bfe08478f81bdf02e2b2a62ea\nINFO - peloton_workout - Successfully fetched workout id 27479ac5d4ee470f818c8b16525cfbb6\nINFO - peloton_workout - Successfully fetched workout id 27479ac5d4ee470f818c8b16525cfbb6\nINFO - peloton_workout - Successfully fetched workout id 3501bb03672b47e3943f4a15d8f2e961\nINFO - peloton_workout - Successfully fetched workout id 3501bb03672b47e3943f4a15d8f2e961\nINFO - peloton_workout - Successfully fetched workout id f154a21bea79496b8f961943b45fc112\nINFO - peloton_workout - Successfully fetched workout id f154a21bea79496b8f961943b45fc112\nINFO - peloton_workout - Successfully fetched workout id a8ec9b5d8e784f3cb731e38b5d7c4a84\nINFO - peloton_workout - Successfully fetched workout id a8ec9b5d8e784f3cb731e38b5d7c4a84\nINFO - peloton_workout - Successfully fetched workout id 5efb78ed07d449ccb26b502aaaa137cf\nINFO - peloton_workout - Successfully fetched workout id 5efb78ed07d449ccb26b502aaaa137cf\nINFO - peloton_workout - Successfully fetched workout id af84108a268d449fa36535279bac6d00\nINFO - peloton_workout - Successfully fetched workout id af84108a268d449fa36535279bac6d00\nINFO - peloton_workout - Successfully fetched workout id efb6fef5375c4c7fb3b255f8206f0fd7\nINFO - peloton_workout - Successfully fetched workout id efb6fef5375c4c7fb3b255f8206f0fd7\nINFO - peloton_workout - Successfully fetched workout id 306b6ff142e74d83b305331bb525ac78\nINFO - peloton_workout - Successfully fetched workout id 306b6ff142e74d83b305331bb525ac78\nINFO - peloton_workout - Successfully fetched workout id 006d6f8191b340e2b1a78fcbf9715add\nINFO - peloton_workout - Successfully fetched workout id 006d6f8191b340e2b1a78fcbf9715add\nINFO - peloton_workout - Successfully fetched workout id fd85cb80be9c4b369a1e393e5352df11\nINFO - peloton_workout - Successfully fetched workout id fd85cb80be9c4b369a1e393e5352df11\nINFO - peloton_workout - Successfully fetched workout id ecf1527b9528446aa92be67900842dfb\nINFO - peloton_workout - Successfully fetched workout id ecf1527b9528446aa92be67900842dfb\nINFO - peloton_workout - Successfully fetched workout id c4186534322e4178a99f29c358316299\nINFO - peloton_workout - Successfully fetched workout id c4186534322e4178a99f29c358316299\nINFO - peloton_workout - Successfully fetched workout id 7ca4699e5713484396076ae5bea7d187\nINFO - peloton_workout - Successfully fetched workout id 7ca4699e5713484396076ae5bea7d187\nINFO - peloton_workout - Successfully fetched workout id f255c3618ceb431c971c9b6b696346ec\nINFO - peloton_workout - Successfully fetched workout id f255c3618ceb431c971c9b6b696346ec\nINFO - peloton_workout - Successfully fetched workout id 78a151a3a69941b6bfcedc603ee38c2d\nINFO - peloton_workout - Successfully fetched workout id 78a151a3a69941b6bfcedc603ee38c2d\nINFO - peloton_workout - Successfully fetched workout id 47b3c8c8656f472e9a4e68fb9d477b89\nINFO - peloton_workout - Successfully fetched workout id 47b3c8c8656f472e9a4e68fb9d477b89\nINFO - peloton_workout - Successfully fetched workout id 9c0af5aa24724400bc67234c250d189b\nINFO - peloton_workout - Successfully fetched workout id 9c0af5aa24724400bc67234c250d189b\n"
    }
   ],
   "source": [
    "# create workout objects\n",
    "user.workouts = [peloton_workout.PelotonWorkout(user, workout_id) for workout_id in user.workout_ids]\n"
   ]
  },
  {
   "cell_type": "code",
   "execution_count": 20,
   "metadata": {},
   "outputs": [
    {
     "output_type": "execute_result",
     "data": {
      "text/plain": "              name                        workout_id  workout_time  \\\n74  Marcos Alcozer  78a151a3a69941b6bfcedc603ee38c2d    1584117757   \n75  Marcos Alcozer  47b3c8c8656f472e9a4e68fb9d477b89    1583705156   \n76  Marcos Alcozer  9c0af5aa24724400bc67234c250d189b    1583592206   \n\n   fitness_discipline  \n74            Cycling  \n75            Running  \n76            Cycling  ",
      "text/html": "<div>\n<style scoped>\n    .dataframe tbody tr th:only-of-type {\n        vertical-align: middle;\n    }\n\n    .dataframe tbody tr th {\n        vertical-align: top;\n    }\n\n    .dataframe thead th {\n        text-align: right;\n    }\n</style>\n<table border=\"1\" class=\"dataframe\">\n  <thead>\n    <tr style=\"text-align: right;\">\n      <th></th>\n      <th>name</th>\n      <th>workout_id</th>\n      <th>workout_time</th>\n      <th>fitness_discipline</th>\n    </tr>\n  </thead>\n  <tbody>\n    <tr>\n      <th>74</th>\n      <td>Marcos Alcozer</td>\n      <td>78a151a3a69941b6bfcedc603ee38c2d</td>\n      <td>1584117757</td>\n      <td>Cycling</td>\n    </tr>\n    <tr>\n      <th>75</th>\n      <td>Marcos Alcozer</td>\n      <td>47b3c8c8656f472e9a4e68fb9d477b89</td>\n      <td>1583705156</td>\n      <td>Running</td>\n    </tr>\n    <tr>\n      <th>76</th>\n      <td>Marcos Alcozer</td>\n      <td>9c0af5aa24724400bc67234c250d189b</td>\n      <td>1583592206</td>\n      <td>Cycling</td>\n    </tr>\n  </tbody>\n</table>\n</div>"
     },
     "metadata": {},
     "execution_count": 20
    }
   ],
   "source": [
    "output = {\n",
    "    'name': [],\n",
    "    'workout_id': [],\n",
    "    'workout_time': [],\n",
    "    'fitness_discipline': []\n",
    "}\n",
    "\n",
    "for workout in user.workouts:\n",
    "    output['name'].append(user.name)\n",
    "    output['workout_id'].append(workout.workout_id)\n",
    "    output['workout_time'].append(workout.created_at_epoch)\n",
    "    output['fitness_discipline'].append(workout.fitness_discipline.capitalize())\n",
    "\n",
    "df = pd.DataFrame(output)\n",
    "\n",
    "df.tail(3)\n"
   ]
  },
  {
   "cell_type": "code",
   "execution_count": 8,
   "metadata": {},
   "outputs": [],
   "source": [
    "# pull workout summary data\n",
    "# [workout.get_workout_summary() for workout in workouts]"
   ]
  },
  {
   "cell_type": "code",
   "execution_count": 9,
   "metadata": {},
   "outputs": [],
   "source": [
    "# pull performance graph data\n",
    "# [workout.get_performance_graph() for workout in workouts]"
   ]
  }
 ],
 "metadata": {
  "language_info": {
   "codemirror_mode": {
    "name": "ipython",
    "version": 3
   },
   "file_extension": ".py",
   "mimetype": "text/x-python",
   "name": "python",
   "nbconvert_exporter": "python",
   "pygments_lexer": "ipython3",
   "version": "3.8.3-final"
  },
  "orig_nbformat": 2,
  "kernelspec": {
   "name": "python38364bit247b7f85f4674139a783341a28ee0bde",
   "display_name": "Python 3.8.3 64-bit"
  }
 },
 "nbformat": 4,
 "nbformat_minor": 2
}